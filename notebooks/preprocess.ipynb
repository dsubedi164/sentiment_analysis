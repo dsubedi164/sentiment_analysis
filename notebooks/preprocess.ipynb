{
 "cells": [
  {
   "cell_type": "code",
   "execution_count": 35,
   "metadata": {},
   "outputs": [],
   "source": [
    "# %pip install nltk\n",
    "# %pip install vaderSentiment\n",
    "# %pip install matplotlib seaborn\n",
    "\n"
   ]
  },
  {
   "cell_type": "code",
   "execution_count": 3,
   "metadata": {},
   "outputs": [],
   "source": [
    "import pandas as pd\n",
    "import re\n",
    "import string\n",
    "from nltk.corpus import stopwords\n",
    "from nltk.stem import PorterStemmer\n",
    "import nltk"
   ]
  },
  {
   "cell_type": "code",
   "execution_count": 4,
   "metadata": {},
   "outputs": [
    {
     "name": "stderr",
     "output_type": "stream",
     "text": [
      "[nltk_data] Downloading package stopwords to /home/dhurba/nltk_data...\n",
      "[nltk_data]   Package stopwords is already up-to-date!\n"
     ]
    }
   ],
   "source": [
    "# Download NLTK resources\n",
    "nltk.download('stopwords')\n",
    "# Initialize stemmer and stop words\n",
    "stemmer = PorterStemmer()\n",
    "stop_words = set(stopwords.words('english'))"
   ]
  },
  {
   "cell_type": "code",
   "execution_count": 5,
   "metadata": {},
   "outputs": [],
   "source": [
    "data = pd.read_csv('../data/scrap.csv')"
   ]
  },
  {
   "cell_type": "code",
   "execution_count": 6,
   "metadata": {},
   "outputs": [],
   "source": [
    "# Preprocessing function to clean the text\n",
    "def preprocess_text(text):\n",
    "    text = text.encode('ascii', 'ignore').decode('ascii') #Remove emoji\n",
    "    text = re.sub(r'http\\S+', '', text)  # Remove URLs\n",
    "    text = re.sub(r'@\\w+', '', text)  # Remove mentions\n",
    "    text = re.sub(r'#\\w+', '', text)  # Remove hashtags\n",
    "    text = text.translate(str.maketrans('', '', string.punctuation))  # Remove punctuation\n",
    "    text = text.lower()  # Convert to lowercase\n",
    "    words = text.split()  # Split into words\n",
    "    words = [word for word in words if word not in stop_words]  # Remove stop words\n",
    "    words = [stemmer.stem(word) for word in words]  # Stemming\n",
    "    return ' '.join(words)\n",
    "\n",
    "\n",
    "def preprocess_text_label(text):\n",
    "    text = text.encode('ascii', 'ignore').decode('ascii') #Remove emoji\n",
    "    text = re.sub(r'http\\S+', '', text)  # Remove URLs\n",
    "    text = re.sub(r'@\\w+', '', text)  # Remove mentions\n",
    "    text = re.sub(r'#\\w+', '', text)  # Remove hashtags\n",
    "    text = text.translate(str.maketrans('', '', string.punctuation))  # Remove punctuation\n",
    "    text = text.lower()  # Convert to lowercase\n",
    "    return text"
   ]
  },
  {
   "cell_type": "code",
   "execution_count": 8,
   "metadata": {},
   "outputs": [
    {
     "name": "stdout",
     "output_type": "stream",
     "text": [
      "                       id                                               text\n",
      "20    1807112470659514445  @BhismaK62 Sir I find it hard to understand yo...\n",
      "40    1807085669166264443  Khabarhub brings you a glimpse of major develo...\n",
      "43    1806723539741094060  Khabarhub brings you a glimpse of major develo...\n",
      "56    1806361531678089603  Khabarhub brings you a glimpse of major develo...\n",
      "115   1806596861257543905  @SuryaRAcharya I agree with you in the context...\n",
      "...                   ...                                                ...\n",
      "9203  1126476090464247814  #Nepali corrupt politics continues &amp; peopl...\n",
      "9207  1126113454564290561  #Nepali corrupt politics continues &amp; peopl...\n",
      "9232  1134085906921611264  #Nepali corrupt politics continues &amp; peopl...\n",
      "9236  1133723429595680769  #Nepali corrupt politics continues &amp; peopl...\n",
      "9245  1133361071262261248  #Nepali corrupt politics continues &amp; peopl...\n",
      "\n",
      "[364 rows x 2 columns]\n",
      "Number of duplicates based on 'text': 364\n",
      "                       id                                               text\n",
      "1     1807053896587919743  We should consider dismantling provincial stru...\n",
      "2     1807031275989114981  Those joining in insurance online will be requ...\n",
      "3     1807030978554269711  Minister Aryal also requested the provincial a...\n",
      "4     1807029744837300466  \\xf0\\x9f\\x8c\\xbe Happy National Paddy Day (Aas...\n",
      "5     1806998724926755034  Climate action plans and targets set by the Ne...\n",
      "...                   ...                                                ...\n",
      "9305  1133928714687864832  The #government has earmarked Rs 141 billion i...\n",
      "9306  1133924827641724928  The government announced a #budget of Rs 7.39 ...\n",
      "9307  1133923287422029824  EXCEPT OF FEW POLITICAL COMPROMISES, THIS BUDJ...\n",
      "9308  1133913423576616960  There has not been any #announcement of new ma...\n",
      "9309  1133905866795565056  Easy access to permits through Nepal's governm...\n",
      "\n",
      "[8946 rows x 2 columns]\n"
     ]
    }
   ],
   "source": [
    "columns_to_remove = ['url', 'twitterUrl','retweetCount','replyCount','likeCount','quoteCount','createdAt','bookmarkCount','isRetweet','isQuote']\n",
    "data_modified = data.drop(columns_to_remove, axis=1)\n",
    "duplicates_text = data_modified.duplicated(subset=['text'])\n",
    "\n",
    "# Print the rows where duplicates are True\n",
    "print(data_modified[duplicates_text])\n",
    "\n",
    "# Optionally, count the number of duplicates based on 'text' column\n",
    "num_duplicates_text = data_modified[duplicates_text].shape[0]\n",
    "print(f\"Number of duplicates based on 'text': {num_duplicates_text}\")\n",
    "data_modified = data_modified.drop_duplicates(subset=['text'], keep='last')\n",
    "\n",
    "print(data_modified)\n"
   ]
  },
  {
   "cell_type": "code",
   "execution_count": 9,
   "metadata": {},
   "outputs": [
    {
     "name": "stdout",
     "output_type": "stream",
     "text": [
      "Empty DataFrame\n",
      "Columns: [id, text]\n",
      "Index: []\n",
      "Number of duplicates based on 'text': 0\n"
     ]
    }
   ],
   "source": [
    "duplicates_text = data_modified.duplicated(subset=['text'])\n",
    "\n",
    "# Print the rows where duplicates are True\n",
    "print(data_modified[duplicates_text])\n",
    "\n",
    "# Optionally, count the number of duplicates based on 'text' column\n",
    "num_duplicates_text = data_modified[duplicates_text].shape[0]\n",
    "print(f\"Number of duplicates based on 'text': {num_duplicates_text}\")\n",
    "# df_unique_subset_last = df_unique_subset_last.drop_duplicates(subset=['text'], keep='last')"
   ]
  },
  {
   "cell_type": "code",
   "execution_count": 10,
   "metadata": {},
   "outputs": [
    {
     "name": "stdout",
     "output_type": "stream",
     "text": [
      "                       id                                               text  \\\n",
      "1     1807053896587919743  We should consider dismantling provincial stru...   \n",
      "2     1807031275989114981  Those joining in insurance online will be requ...   \n",
      "3     1807030978554269711  Minister Aryal also requested the provincial a...   \n",
      "4     1807029744837300466  \\xf0\\x9f\\x8c\\xbe Happy National Paddy Day (Aas...   \n",
      "5     1806998724926755034  Climate action plans and targets set by the Ne...   \n",
      "...                   ...                                                ...   \n",
      "9305  1133928714687864832  The #government has earmarked Rs 141 billion i...   \n",
      "9306  1133924827641724928  The government announced a #budget of Rs 7.39 ...   \n",
      "9307  1133923287422029824  EXCEPT OF FEW POLITICAL COMPROMISES, THIS BUDJ...   \n",
      "9308  1133913423576616960  There has not been any #announcement of new ma...   \n",
      "9309  1133905866795565056  Easy access to permits through Nepal's governm...   \n",
      "\n",
      "                        cleaned_text_without_stop_words  \n",
      "1     we should consider dismantling provincial stru...  \n",
      "2     those joining in insurance online will be requ...  \n",
      "3     minister aryal also requested the provincial a...  \n",
      "4     xf0x9fx8cxbe happy national paddy day aasar 15...  \n",
      "5     climate action plans and targets set by the ne...  \n",
      "...                                                 ...  \n",
      "9305  the  has earmarked rs 141 billion in the new  ...  \n",
      "9306  the government announced a  of rs 739 billion ...  \n",
      "9307  except of few political compromises this budje...  \n",
      "9308  there has not been any  of new major transform...  \n",
      "9309  easy access to permits through nepals governme...  \n",
      "\n",
      "[8946 rows x 3 columns]\n"
     ]
    }
   ],
   "source": [
    "data_modified['cleaned_text_without_stop_words'] = data_modified['text'].apply(preprocess_text_label)\n",
    "print(data_modified)\n",
    "data_modified['cleaned_text_with_stop_words_removal'] = data_modified['text'].apply(preprocess_text)"
   ]
  },
  {
   "cell_type": "code",
   "execution_count": 11,
   "metadata": {},
   "outputs": [
    {
     "name": "stdout",
     "output_type": "stream",
     "text": [
      "                       id                                               text  \\\n",
      "37    1806377428475916743  Rajesh Yadav of Hindu Samrat Sena plans to sub...   \n",
      "43    1806723539741094060  Khabarhub brings you a glimpse of major develo...   \n",
      "56    1806361531678089603  Khabarhub brings you a glimpse of major develo...   \n",
      "78    1806377423895752845  Tensions flare in #Rautahat, #Nepal as a minor...   \n",
      "112   1806606316397326411  @anilkathmandu @kathmandupost Yes! With regard...   \n",
      "...                   ...                                                ...   \n",
      "9199  1126672914659532801  #Nepal's Prime Minister begins official visit ...   \n",
      "9204  1126229075104870400  Join us on May 14th for a talk on the politics...   \n",
      "9216  1132545196216840193  Amid journalists’ protest against the Media Co...   \n",
      "9217  1132485256689463301  Amid journalists’ protest against the Media Co...   \n",
      "9290  1133985972255961088  Prime Minister of Nepal, K P Sharma Oli is arr...   \n",
      "\n",
      "                        cleaned_text_without_stop_words  \\\n",
      "37    rajesh yadav of hindu samrat sena plans to sub...   \n",
      "43    khabarhub brings you a glimpse of major develo...   \n",
      "56    khabarhub brings you a glimpse of major develo...   \n",
      "78    tensions flare in   as a minority  group renam...   \n",
      "112     yes with regards to nepals diplomacy with ch...   \n",
      "...                                                 ...   \n",
      "9199  s prime minister begins official visit to viet...   \n",
      "9204  join us on may 14th for a talk on the politics...   \n",
      "9216  amid journalists protest against the media cou...   \n",
      "9217  amid journalists protest against the media cou...   \n",
      "9290  prime minister of nepal k p sharma oli is arri...   \n",
      "\n",
      "                   cleaned_text_with_stop_words_removal  \n",
      "37    rajesh yadav hindu samrat sena plan submit mem...  \n",
      "43    khabarhub bring glimps major develop day nepal...  \n",
      "56    khabarhub bring glimps major develop day nepal...  \n",
      "78    tension flare minor group renam villag spark p...  \n",
      "112   ye regard nepal diplomaci china nepal continu ...  \n",
      "...                                                 ...  \n",
      "9199        prime minist begin offici visit vietnam via  \n",
      "9204  join us may 14th talk polit rebuild postearthq...  \n",
      "9216  amid journalist protest media council bill pre...  \n",
      "9217  amid journalist protest media council bill pre...  \n",
      "9290  prime minist nepal k p sharma oli arriv new de...  \n",
      "\n",
      "[505 rows x 4 columns]\n",
      "Number of duplicates based on 'text': 505\n"
     ]
    }
   ],
   "source": [
    "duplicates_text = data_modified.duplicated(subset=['cleaned_text_with_stop_words_removal'])\n",
    "\n",
    "# Print the rows where duplicates are True\n",
    "print(data_modified[duplicates_text])\n",
    "\n",
    "# Optionally, count the number of duplicates based on 'text' column\n",
    "num_duplicates_text = data_modified[duplicates_text].shape[0]\n",
    "print(f\"Number of duplicates based on 'text': {num_duplicates_text}\")\n",
    "data_modified = data_modified.drop_duplicates(subset=['cleaned_text_with_stop_words_removal'], keep='last')"
   ]
  },
  {
   "cell_type": "code",
   "execution_count": 44,
   "metadata": {},
   "outputs": [
    {
     "name": "stdout",
     "output_type": "stream",
     "text": [
      "Empty DataFrame\n",
      "Columns: [id, text, cleaned_text_without_stop_words, cleaned_text_with_stop_words_removal]\n",
      "Index: []\n",
      "Number of duplicates based on 'text': 0\n"
     ]
    }
   ],
   "source": [
    "duplicates_text = data_modified.duplicated(subset=['cleaned_text_with_stop_words_removal'])\n",
    "\n",
    "# Print the rows where duplicates are True\n",
    "print(data_modified[duplicates_text])\n",
    "\n",
    "# Optionally, count the number of duplicates based on 'text' column\n",
    "num_duplicates_text = data_modified[duplicates_text].shape[0]\n",
    "print(f\"Number of duplicates based on 'text': {num_duplicates_text}\")"
   ]
  },
  {
   "cell_type": "code",
   "execution_count": 45,
   "metadata": {},
   "outputs": [],
   "source": [
    "from vaderSentiment.vaderSentiment import SentimentIntensityAnalyzer\n",
    "\n",
    "analyzer = SentimentIntensityAnalyzer()\n",
    "\n",
    "def vader_sentiment(text):\n",
    "    scores = analyzer.polarity_scores(text)       #0.05 is a standard threshold for vadar\n",
    "    if scores['compound'] > 0.05:\n",
    "        return 'positive'\n",
    "    elif scores['compound'] < -0.05:\n",
    "        return 'negative'\n",
    "    else:\n",
    "        return 'neutral'\n",
    "    \n",
    "# Apply the vader_sentiment function to your dataset\n",
    "data_modified['label'] = data_modified['cleaned_text_without_stop_words'].apply(vader_sentiment)\n"
   ]
  },
  {
   "cell_type": "code",
   "execution_count": 46,
   "metadata": {},
   "outputs": [
    {
     "name": "stdout",
     "output_type": "stream",
     "text": [
      "                       id                                               text  \\\n",
      "1     1807053896587919743  We should consider dismantling provincial stru...   \n",
      "2     1807031275989114981  Those joining in insurance online will be requ...   \n",
      "3     1807030978554269711  Minister Aryal also requested the provincial a...   \n",
      "4     1807029744837300466  \\xf0\\x9f\\x8c\\xbe Happy National Paddy Day (Aas...   \n",
      "5     1806998724926755034  Climate action plans and targets set by the Ne...   \n",
      "...                   ...                                                ...   \n",
      "9305  1133928714687864832  The #government has earmarked Rs 141 billion i...   \n",
      "9306  1133924827641724928  The government announced a #budget of Rs 7.39 ...   \n",
      "9307  1133923287422029824  EXCEPT OF FEW POLITICAL COMPROMISES, THIS BUDJ...   \n",
      "9308  1133913423576616960  There has not been any #announcement of new ma...   \n",
      "9309  1133905866795565056  Easy access to permits through Nepal's governm...   \n",
      "\n",
      "                   cleaned_text_with_stop_words_removal     label  \n",
      "1     consid dismantl provinci structur empow local ...   neutral  \n",
      "2     join insur onlin requir provid nation ident ca...  positive  \n",
      "3     minist aryal also request provinci local gover...  positive  \n",
      "4     xf0x9fx8cxbe happi nation paddi day aasar 15 x...  positive  \n",
      "5     climat action plan target set nepal govern gui...  positive  \n",
      "...                                                 ...       ...  \n",
      "9305  earmark rs 141 billion new postrecoveri progra...   neutral  \n",
      "9306  govern announc rs 739 billion water suppli pro...   neutral  \n",
      "9307  except polit compromis budjet present govern g...  positive  \n",
      "9308  new major transform mani expect command twothi...   neutral  \n",
      "9309  easi access permit nepal govern expedit compan...  positive  \n",
      "\n",
      "[8441 rows x 4 columns]\n"
     ]
    }
   ],
   "source": [
    "columns_to_remove = ['cleaned_text_without_stop_words']\n",
    "data_modified = data_modified.drop(columns_to_remove, axis=1)\n",
    "data_modified.to_csv(\"../data/labeled.csv\", index=False,encoding='utf-8')\n",
    "print(data_modified)"
   ]
  },
  {
   "cell_type": "code",
   "execution_count": 47,
   "metadata": {},
   "outputs": [
    {
     "name": "stdout",
     "output_type": "stream",
     "text": [
      "3557 3264 1620\n"
     ]
    }
   ],
   "source": [
    "countpositive = 0\n",
    "countnegative=0\n",
    "countneutral=0\n",
    "for data in data_modified['label']:\n",
    "    # print(data)\n",
    "    if data == 'positive':\n",
    "        countpositive = countpositive +1\n",
    "    elif data == 'negative':\n",
    "        countnegative = countnegative +1\n",
    "    else:\n",
    "        countneutral = countneutral +1\n",
    "\n",
    "\n",
    "print(countpositive,countnegative,countneutral)"
   ]
  },
  {
   "cell_type": "code",
   "execution_count": 48,
   "metadata": {},
   "outputs": [],
   "source": [
    "# print(3793+3480+1673)\n",
    "# print(3557+3264+1620)\n"
   ]
  },
  {
   "cell_type": "code",
   "execution_count": 49,
   "metadata": {},
   "outputs": [],
   "source": [
    "import matplotlib.pyplot as plt\n",
    "import seaborn as sns\n",
    "\n",
    "# Load dataset\n",
    "labeled_df = pd.read_csv('../data/labeled.csv')\n",
    "\n",
    "# Compute class distribution\n",
    "class_distribution = labeled_df['label'].value_counts().sort_index()\n",
    "\n",
    "# Create a DataFrame for plotting\n",
    "class_dist_df = pd.DataFrame({\n",
    "    'Class': class_distribution.index,\n",
    "    'Count': class_distribution.values\n",
    "})\n",
    "\n",
    "# Plotting\n",
    "plt.figure(figsize=(10, 6))\n",
    "sns.barplot(x='Class', y='Count', data=class_dist_df)\n",
    "\n",
    "plt.title('Class Distribution')\n",
    "plt.xlabel('Class')\n",
    "plt.ylabel('Count')\n",
    "plt.xticks(rotation=45)  # Rotate x labels for better readability if needed\n",
    "plt.grid(axis='y', linestyle='--', alpha=0.7)\n",
    "plt.savefig('../reports/class_distribution.png', format='png', dpi=300,transparent=True)\n",
    "# plt.show()\n",
    "plt.close()\n"
   ]
  },
  {
   "cell_type": "code",
   "execution_count": 50,
   "metadata": {},
   "outputs": [
    {
     "data": {
      "text/plain": [
       "'positive'"
      ]
     },
     "execution_count": 50,
     "metadata": {},
     "output_type": "execute_result"
    }
   ],
   "source": [
    "data"
   ]
  },
  {
   "cell_type": "code",
   "execution_count": 51,
   "metadata": {},
   "outputs": [
    {
     "ename": "AttributeError",
     "evalue": "'str' object has no attribute 'values'",
     "output_type": "error",
     "traceback": [
      "\u001b[0;31m---------------------------------------------------------------------------\u001b[0m",
      "\u001b[0;31mAttributeError\u001b[0m                            Traceback (most recent call last)",
      "Cell \u001b[0;32mIn[51], line 9\u001b[0m\n\u001b[1;32m      6\u001b[0m ax\u001b[38;5;241m.\u001b[39mset_frame_on(\u001b[38;5;28;01mFalse\u001b[39;00m)\n\u001b[1;32m      7\u001b[0m \u001b[38;5;66;03m# df = pd.DataFrame(data)\u001b[39;00m\n\u001b[1;32m      8\u001b[0m \u001b[38;5;66;03m# Create the table\u001b[39;00m\n\u001b[0;32m----> 9\u001b[0m tbl \u001b[38;5;241m=\u001b[39m plt\u001b[38;5;241m.\u001b[39mtable(cellText\u001b[38;5;241m=\u001b[39m\u001b[43mdata\u001b[49m\u001b[38;5;241;43m.\u001b[39;49m\u001b[43mvalues\u001b[49m,\n\u001b[1;32m     10\u001b[0m                 colLabels\u001b[38;5;241m=\u001b[39mdata\u001b[38;5;241m.\u001b[39mcolumns,\n\u001b[1;32m     11\u001b[0m                 cellLoc\u001b[38;5;241m=\u001b[39m\u001b[38;5;124m'\u001b[39m\u001b[38;5;124mcenter\u001b[39m\u001b[38;5;124m'\u001b[39m,\n\u001b[1;32m     12\u001b[0m                 loc\u001b[38;5;241m=\u001b[39m\u001b[38;5;124m'\u001b[39m\u001b[38;5;124mcenter\u001b[39m\u001b[38;5;124m'\u001b[39m,\n\u001b[1;32m     13\u001b[0m                 bbox\u001b[38;5;241m=\u001b[39m[\u001b[38;5;241m0\u001b[39m, \u001b[38;5;241m0\u001b[39m, \u001b[38;5;241m1\u001b[39m, \u001b[38;5;241m1\u001b[39m])\n\u001b[1;32m     15\u001b[0m \u001b[38;5;66;03m# Save as image\u001b[39;00m\n\u001b[1;32m     16\u001b[0m plt\u001b[38;5;241m.\u001b[39msavefig(\u001b[38;5;124m'\u001b[39m\u001b[38;5;124m../reports/tweets_sentiment.png\u001b[39m\u001b[38;5;124m'\u001b[39m, bbox_inches\u001b[38;5;241m=\u001b[39m\u001b[38;5;124m'\u001b[39m\u001b[38;5;124mtight\u001b[39m\u001b[38;5;124m'\u001b[39m, pad_inches\u001b[38;5;241m=\u001b[39m\u001b[38;5;241m0.1\u001b[39m)\n",
      "\u001b[0;31mAttributeError\u001b[0m: 'str' object has no attribute 'values'"
     ]
    },
    {
     "data": {
      "image/png": "[encoded data removed]",
      "text/plain": [
       "<Figure size 800x400 with 1 Axes>"
      ]
     },
     "metadata": {},
     "output_type": "display_data"
    }
   ],
   "source": [
    "fig, ax = plt.subplots(figsize=(8, 4))  # Adjust size as needed\n",
    "\n",
    "# Hide axes\n",
    "ax.xaxis.set_visible(False) \n",
    "ax.yaxis.set_visible(False)\n",
    "ax.set_frame_on(False)\n",
    "# df = pd.DataFrame(data)\n",
    "# Create the table\n",
    "tbl = plt.table(cellText=data.values,\n",
    "                colLabels=data.columns,\n",
    "                cellLoc='center',\n",
    "                loc='center',\n",
    "                bbox=[0, 0, 1, 1])\n",
    "\n",
    "# Save as image\n",
    "plt.savefig('../reports/tweets_sentiment.png', bbox_inches='tight', pad_inches=0.1)"
   ]
  }
 ],
 "metadata": {
  "kernelspec": {
   "display_name": "envsentiment",
   "language": "python",
   "name": "python3"
  },
  "language_info": {
   "codemirror_mode": {
    "name": "ipython",
    "version": 3
   },
   "file_extension": ".py",
   "mimetype": "text/x-python",
   "name": "python",
   "nbconvert_exporter": "python",
   "pygments_lexer": "ipython3",
   "version": "3.10.12"
  }
 },
 "nbformat": 4,
 "nbformat_minor": 2
}
