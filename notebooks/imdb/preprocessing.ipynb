{
 "cells": [
  {
   "cell_type": "code",
   "execution_count": 2,
   "metadata": {},
   "outputs": [],
   "source": [
    "import pandas as pd\n",
    "from nltk.corpus import stopwords\n",
    "from nltk.stem import PorterStemmer\n",
    "import nltk\n",
    "import re\n",
    "import string"
   ]
  },
  {
   "cell_type": "code",
   "execution_count": 3,
   "metadata": {},
   "outputs": [
    {
     "data": {
      "text/html": [
       "<div>\n",
       "<style scoped>\n",
       "    .dataframe tbody tr th:only-of-type {\n",
       "        vertical-align: middle;\n",
       "    }\n",
       "\n",
       "    .dataframe tbody tr th {\n",
       "        vertical-align: top;\n",
       "    }\n",
       "\n",
       "    .dataframe thead th {\n",
       "        text-align: right;\n",
       "    }\n",
       "</style>\n",
       "<table border=\"1\" class=\"dataframe\">\n",
       "  <thead>\n",
       "    <tr style=\"text-align: right;\">\n",
       "      <th></th>\n",
       "      <th>review</th>\n",
       "      <th>sentiment</th>\n",
       "    </tr>\n",
       "  </thead>\n",
       "  <tbody>\n",
       "    <tr>\n",
       "      <th>0</th>\n",
       "      <td>One of the other reviewers has mentioned that ...</td>\n",
       "      <td>positive</td>\n",
       "    </tr>\n",
       "    <tr>\n",
       "      <th>1</th>\n",
       "      <td>A wonderful little production. &lt;br /&gt;&lt;br /&gt;The...</td>\n",
       "      <td>positive</td>\n",
       "    </tr>\n",
       "    <tr>\n",
       "      <th>2</th>\n",
       "      <td>I thought this was a wonderful way to spend ti...</td>\n",
       "      <td>positive</td>\n",
       "    </tr>\n",
       "    <tr>\n",
       "      <th>3</th>\n",
       "      <td>Basically there's a family where a little boy ...</td>\n",
       "      <td>negative</td>\n",
       "    </tr>\n",
       "    <tr>\n",
       "      <th>4</th>\n",
       "      <td>Petter Mattei's \"Love in the Time of Money\" is...</td>\n",
       "      <td>positive</td>\n",
       "    </tr>\n",
       "  </tbody>\n",
       "</table>\n",
       "</div>"
      ],
      "text/plain": [
       "                                              review sentiment\n",
       "0  One of the other reviewers has mentioned that ...  positive\n",
       "1  A wonderful little production. <br /><br />The...  positive\n",
       "2  I thought this was a wonderful way to spend ti...  positive\n",
       "3  Basically there's a family where a little boy ...  negative\n",
       "4  Petter Mattei's \"Love in the Time of Money\" is...  positive"
      ]
     },
     "execution_count": 3,
     "metadata": {},
     "output_type": "execute_result"
    }
   ],
   "source": [
    "labeled_df = pd.read_csv('../../data/IMDB_dataset.csv')\n",
    "labeled_df.head()"
   ]
  },
  {
   "cell_type": "code",
   "execution_count": 4,
   "metadata": {},
   "outputs": [
    {
     "name": "stderr",
     "output_type": "stream",
     "text": [
      "[nltk_data] Downloading package stopwords to /home/dhurba/nltk_data...\n",
      "[nltk_data]   Package stopwords is already up-to-date!\n"
     ]
    }
   ],
   "source": [
    "nltk.download('stopwords')\n",
    "stemmer = PorterStemmer()\n",
    "stop_words = set(stopwords.words('english'))"
   ]
  },
  {
   "cell_type": "code",
   "execution_count": 5,
   "metadata": {},
   "outputs": [],
   "source": [
    "def preprocess_text(text):\n",
    "    text = text.encode('ascii', 'ignore').decode('ascii') #Remove emoji\n",
    "    text = re.sub(r'http\\S+', '', text)  # Remove URLs\n",
    "    text = re.sub(r'@\\w+', '', text)  # Remove mentions\n",
    "    text = re.sub(r'#\\w+', '', text)  # Remove hashtags\n",
    "    text = re.sub(r'<.*?>', '', text) #Remove tag\n",
    "    text = text.translate(str.maketrans('', '', string.punctuation))  # Remove punctuation\n",
    "    text = text.lower()  # Convert to lowercase\n",
    "    words = text.split()  # Split into words\n",
    "    words = [word for word in words if word not in stop_words]   # Remove stop words\n",
    "    words = [stemmer.stem(word) for word in words]  # Stemming\n",
    "    return ' '.join(words)"
   ]
  },
  {
   "cell_type": "code",
   "execution_count": 6,
   "metadata": {},
   "outputs": [],
   "source": [
    "labeled_df['cleaned_text_with_stop_words_removal'] = labeled_df['review'].apply(preprocess_text)"
   ]
  },
  {
   "cell_type": "code",
   "execution_count": 7,
   "metadata": {},
   "outputs": [
    {
     "name": "stdout",
     "output_type": "stream",
     "text": [
      "Rows with null values in 'cleaned_text_with_stop_words_removal':\n",
      "Empty DataFrame\n",
      "Columns: [review, sentiment, cleaned_text_with_stop_words_removal]\n",
      "Index: []\n"
     ]
    }
   ],
   "source": [
    "labeled_df.isnull().sum()\n",
    "null_rows = labeled_df[labeled_df['cleaned_text_with_stop_words_removal'].isnull()]\n",
    "print(\"Rows with null values in 'cleaned_text_with_stop_words_removal':\")\n",
    "print(null_rows)\n",
    "labeled_df.dropna(subset=['cleaned_text_with_stop_words_removal'], inplace=True)\n",
    "duplicates_text = labeled_df.duplicated(subset=['cleaned_text_with_stop_words_removal'])\n",
    "# labeled_df[duplicates_text]"
   ]
  },
  {
   "cell_type": "code",
   "execution_count": 8,
   "metadata": {},
   "outputs": [
    {
     "name": "stdout",
     "output_type": "stream",
     "text": [
      "25000 25000 0\n"
     ]
    }
   ],
   "source": [
    "countpositive = 0\n",
    "countnegative=0\n",
    "countneutral=0\n",
    "for data in labeled_df['sentiment']:\n",
    "    # print(data)\n",
    "    if data == 'positive':\n",
    "        countpositive = countpositive +1\n",
    "    elif data == 'negative':\n",
    "        countnegative = countnegative +1\n",
    "    else:\n",
    "        countneutral = countneutral +1\n",
    "\n",
    "\n",
    "print(countpositive,countnegative,countneutral)"
   ]
  },
  {
   "cell_type": "code",
   "execution_count": 9,
   "metadata": {},
   "outputs": [
    {
     "name": "stdout",
     "output_type": "stream",
     "text": [
      "                                                  review sentiment  \\\n",
      "0      One of the other reviewers has mentioned that ...  positive   \n",
      "1      A wonderful little production. <br /><br />The...  positive   \n",
      "2      I thought this was a wonderful way to spend ti...  positive   \n",
      "3      Basically there's a family where a little boy ...  negative   \n",
      "4      Petter Mattei's \"Love in the Time of Money\" is...  positive   \n",
      "...                                                  ...       ...   \n",
      "49995  I thought this movie did a down right good job...  positive   \n",
      "49996  Bad plot, bad dialogue, bad acting, idiotic di...  negative   \n",
      "49997  I am a Catholic taught in parochial elementary...  negative   \n",
      "49998  I'm going to have to disagree with the previou...  negative   \n",
      "49999  No one expects the Star Trek movies to be high...  negative   \n",
      "\n",
      "                    cleaned_text_with_stop_words_removal  \n",
      "0      one review mention watch 1 oz episod youll hoo...  \n",
      "1      wonder littl product film techniqu unassum old...  \n",
      "2      thought wonder way spend time hot summer weeke...  \n",
      "3      basic there famili littl boy jake think there ...  \n",
      "4      petter mattei love time money visual stun film...  \n",
      "...                                                  ...  \n",
      "49995  thought movi right good job wasnt creativ orig...  \n",
      "49996  bad plot bad dialogu bad act idiot direct anno...  \n",
      "49997  cathol taught parochi elementari school nun ta...  \n",
      "49998  im go disagre previou comment side maltin one ...  \n",
      "49999  one expect star trek movi high art fan expect ...  \n",
      "\n",
      "[50000 rows x 3 columns]\n"
     ]
    }
   ],
   "source": [
    "labeled_df.to_csv(\"../../data/imdb_preprocess.csv\", index=False,encoding='utf-8')\n",
    "print(labeled_df)"
   ]
  },
  {
   "cell_type": "code",
   "execution_count": 11,
   "metadata": {},
   "outputs": [],
   "source": [
    "import matplotlib.pyplot as plt\n",
    "import seaborn as sns\n",
    "\n",
    "# Load dataset\n",
    "preprocess_df = pd.read_csv('../../data/imdb_preprocess.csv')\n",
    "\n",
    "# Compute class distribution\n",
    "class_distribution = preprocess_df['sentiment'].value_counts().sort_index()\n",
    "\n",
    "# Create a DataFrame for plotting\n",
    "class_dist_df = pd.DataFrame({\n",
    "    'Class': class_distribution.index,\n",
    "    'Count': class_distribution.values\n",
    "})\n",
    "\n",
    "# Plotting\n",
    "plt.figure(figsize=(10, 6))\n",
    "sns.barplot(x='Class', y='Count', data=class_dist_df)\n",
    "\n",
    "plt.title('Class Distribution')\n",
    "plt.xlabel('Class')\n",
    "plt.ylabel('Count')\n",
    "plt.xticks(rotation=45)  # Rotate x labels for better readability if needed\n",
    "plt.grid(axis='y', linestyle='--', alpha=0.7)\n",
    "plt.savefig('../../reports/imdb/class_distribution.png', format='png', dpi=300,transparent=True)\n",
    "# plt.show()\n",
    "plt.close()\n"
   ]
  }
 ],
 "metadata": {
  "kernelspec": {
   "display_name": "envsentiment",
   "language": "python",
   "name": "python3"
  },
  "language_info": {
   "codemirror_mode": {
    "name": "ipython",
    "version": 3
   },
   "file_extension": ".py",
   "mimetype": "text/x-python",
   "name": "python",
   "nbconvert_exporter": "python",
   "pygments_lexer": "ipython3",
   "version": "3.10.12"
  }
 },
 "nbformat": 4,
 "nbformat_minor": 2
}
