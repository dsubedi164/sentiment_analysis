{
 "cells": [
  {
   "cell_type": "code",
   "execution_count": 34,
   "metadata": {},
   "outputs": [],
   "source": [
    "import pandas as pd\n",
    "from sklearn.feature_extraction.text import TfidfVectorizer\n",
    "from sklearn.calibration import LabelEncoder"
   ]
  },
  {
   "cell_type": "code",
   "execution_count": 35,
   "metadata": {},
   "outputs": [],
   "source": [
    "preprocess_df = pd.read_csv('../../data/imdb_preprocess.csv')"
   ]
  },
  {
   "cell_type": "code",
   "execution_count": 36,
   "metadata": {},
   "outputs": [
    {
     "name": "stdout",
     "output_type": "stream",
     "text": [
      "25000 25000 0\n"
     ]
    }
   ],
   "source": [
    "countpositive = 0\n",
    "countnegative=0\n",
    "countneutral=0\n",
    "for data in preprocess_df['sentiment']:\n",
    "    # print(data)\n",
    "    if data == 'positive':\n",
    "        countpositive = countpositive +1\n",
    "    elif data == 'negative':\n",
    "        countnegative = countnegative +1\n",
    "    else:\n",
    "        countneutral = countneutral +1\n",
    "\n",
    "\n",
    "print(countpositive,countnegative,countneutral)"
   ]
  },
  {
   "cell_type": "code",
   "execution_count": 37,
   "metadata": {},
   "outputs": [],
   "source": [
    "def Vectorize(text):\n",
    "\n",
    "    tfidf = TfidfVectorizer(max_features=5000)\n",
    "\n",
    "    # Fit and transform the labeled data\n",
    "    return tfidf.fit_transform(text)"
   ]
  },
  {
   "cell_type": "code",
   "execution_count": 38,
   "metadata": {},
   "outputs": [],
   "source": [
    "X_labeled = Vectorize(preprocess_df['cleaned_text_with_stop_words_removal'])\n",
    "# print(X_labeled)"
   ]
  },
  {
   "cell_type": "code",
   "execution_count": 39,
   "metadata": {},
   "outputs": [],
   "source": [
    "def label(text):\n",
    "    if(text == 'positive'):\n",
    "        return 1 \n",
    "    else:\n",
    "        return 0 "
   ]
  },
  {
   "cell_type": "code",
   "execution_count": 40,
   "metadata": {},
   "outputs": [
    {
     "name": "stdout",
     "output_type": "stream",
     "text": [
      "  (np.int32(0), np.int32(3142))\t0.022676621661533825\n",
      "  (np.int32(0), np.int32(3711))\t0.05332259181343302\n",
      "  (np.int32(0), np.int32(2836))\t0.05663210459635405\n",
      "  (np.int32(0), np.int32(4836))\t0.08742408314024044\n",
      "  (np.int32(0), np.int32(3200))\t0.4803439998712938\n",
      "  (np.int32(0), np.int32(1546))\t0.11402269024609867\n",
      "  (np.int32(0), np.int32(4987))\t0.058875892549765566\n",
      "  (np.int32(0), np.int32(2190))\t0.07958012715950387\n",
      "  (np.int32(0), np.int32(3735))\t0.09179512869008295\n",
      "  (np.int32(0), np.int32(1592))\t0.06219093361800469\n",
      "  (np.int32(0), np.int32(2070))\t0.0457873884260681\n",
      "  (np.int32(0), np.int32(1745))\t0.06940313586186769\n",
      "  (np.int32(0), np.int32(4481))\t0.03505306540566346\n",
      "  (np.int32(0), np.int32(4283))\t0.17997152307958936\n",
      "  (np.int32(0), np.int32(644))\t0.07371167104921658\n",
      "  (np.int32(0), np.int32(3861))\t0.03388653088246324\n",
      "  (np.int32(0), np.int32(4775))\t0.2551394990403433\n",
      "  (np.int32(0), np.int32(3944))\t0.04450614437329791\n",
      "  (np.int32(0), np.int32(4937))\t0.0543126314180184\n",
      "  (np.int32(0), np.int32(1957))\t0.033909986538097035\n",
      "  (np.int32(0), np.int32(4615))\t0.07663998524661032\n",
      "  (np.int32(0), np.int32(4002))\t0.1465737235199288\n",
      "  (np.int32(0), np.int32(1651))\t0.10228528624695114\n",
      "  (np.int32(0), np.int32(2108))\t0.0588822339974329\n",
      "  (np.int32(0), np.int32(3508))\t0.0630885223013766\n",
      "  :\t:\n",
      "  (np.int32(49999), np.int32(2298))\t0.10461160854228055\n",
      "  (np.int32(49999), np.int32(1665))\t0.18435138991694194\n",
      "  (np.int32(49999), np.int32(2218))\t0.09173699397750222\n",
      "  (np.int32(49999), np.int32(4613))\t0.10189470690868697\n",
      "  (np.int32(49999), np.int32(779))\t0.11829603147367675\n",
      "  (np.int32(49999), np.int32(3850))\t0.10831337617668203\n",
      "  (np.int32(49999), np.int32(2543))\t0.12266894029561938\n",
      "  (np.int32(49999), np.int32(4671))\t0.11282825227647808\n",
      "  (np.int32(49999), np.int32(2609))\t0.10328836283884024\n",
      "  (np.int32(49999), np.int32(2370))\t0.15578304957013428\n",
      "  (np.int32(49999), np.int32(386))\t0.1253019646457901\n",
      "  (np.int32(49999), np.int32(2079))\t0.1380337736210501\n",
      "  (np.int32(49999), np.int32(3660))\t0.1172973922909734\n",
      "  (np.int32(49999), np.int32(2279))\t0.1791735194683507\n",
      "  (np.int32(49999), np.int32(321))\t0.11681739795717973\n",
      "  (np.int32(49999), np.int32(4593))\t0.17294304326516372\n",
      "  (np.int32(49999), np.int32(2531))\t0.1992846491518138\n",
      "  (np.int32(49999), np.int32(4183))\t0.2179981514111593\n",
      "  (np.int32(49999), np.int32(1095))\t0.17284997767275792\n",
      "  (np.int32(49999), np.int32(682))\t0.15994024227425496\n",
      "  (np.int32(49999), np.int32(3052))\t0.1787127215526358\n",
      "  (np.int32(49999), np.int32(2968))\t0.18795227227303757\n",
      "  (np.int32(49999), np.int32(781))\t0.1398300784382526\n",
      "  (np.int32(49999), np.int32(1972))\t0.17078972063575767\n",
      "  (np.int32(49999), np.int32(3661))\t0.1641226783020839 0        1\n",
      "1        1\n",
      "2        1\n",
      "3        0\n",
      "4        1\n",
      "        ..\n",
      "49995    1\n",
      "49996    0\n",
      "49997    0\n",
      "49998    0\n",
      "49999    0\n",
      "Name: sentiment, Length: 50000, dtype: int64\n"
     ]
    }
   ],
   "source": [
    "Y_labeled =preprocess_df['sentiment'].apply(label)\n",
    "print(X_labeled,Y_labeled)"
   ]
  },
  {
   "cell_type": "code",
   "execution_count": 41,
   "metadata": {},
   "outputs": [
    {
     "name": "stdout",
     "output_type": "stream",
     "text": [
      "                                               x_labeled  y_labeled\n",
      "0        (np.int32(0), np.int32(3142))\\t0.02267662166...          1\n",
      "1        (np.int32(0), np.int32(3142))\\t0.03865010463...          1\n",
      "2        (np.int32(0), np.int32(3142))\\t0.03799351260...          1\n",
      "3        (np.int32(0), np.int32(4836))\\t0.04373698801...          0\n",
      "4        (np.int32(0), np.int32(3142))\\t0.19653199676...          1\n",
      "...                                                  ...        ...\n",
      "49995    (np.int32(0), np.int32(3142))\\t0.04651650228...          1\n",
      "49996    (np.int32(0), np.int32(4836))\\t0.12626521952...          0\n",
      "49997    (np.int32(0), np.int32(1745))\\t0.08573382214...          0\n",
      "49998    (np.int32(0), np.int32(3142))\\t0.14103271380...          0\n",
      "49999    (np.int32(0), np.int32(3142))\\t0.04467115872...          0\n",
      "\n",
      "[50000 rows x 2 columns]\n"
     ]
    }
   ],
   "source": [
    "feature_vector_data = pd.DataFrame({\n",
    "    'x_labeled': X_labeled,\n",
    "    'y_labeled': Y_labeled\n",
    "})\n",
    "print(feature_vector_data)\n",
    "feature_vector_data.to_csv('../../data/feature_vector_data.csv', index=False)"
   ]
  }
 ],
 "metadata": {
  "kernelspec": {
   "display_name": "envsentiment",
   "language": "python",
   "name": "python3"
  },
  "language_info": {
   "codemirror_mode": {
    "name": "ipython",
    "version": 3
   },
   "file_extension": ".py",
   "mimetype": "text/x-python",
   "name": "python",
   "nbconvert_exporter": "python",
   "pygments_lexer": "ipython3",
   "version": "3.10.12"
  }
 },
 "nbformat": 4,
 "nbformat_minor": 2
}
